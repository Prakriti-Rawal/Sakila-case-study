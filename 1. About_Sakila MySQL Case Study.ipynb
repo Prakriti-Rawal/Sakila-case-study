{
 "cells": [
  {
   "cell_type": "markdown",
   "id": "5f9fba0b",
   "metadata": {},
   "source": [
    "# 🎬 Sakila MySQL Case Study – Data Analysis Project"
   ]
  },
  {
   "cell_type": "markdown",
   "id": "ac1c90ab",
   "metadata": {},
   "source": [
    "❓ Problem Statement – Sakila Case Study\n",
    "The Sakila DVD Rental Company is facing challenges in understanding key aspects of its business operations. With data scattered across multiple relational tables, the company struggles to:\n",
    "\n",
    "📉 Track monthly revenue trends to make informed financial decisions\n",
    "🎥 Identify top-performing films and underperformers to adjust inventory and promotions\n",
    "🧍‍♀️ Analyze customer behavior to understand purchasing habits, retention, and churn\n",
    "🏪 Compare store performance to optimize operations across locations\n",
    "👩‍💼 Measure staff efficiency in processing rentals and generating revenue\n",
    "🗃️ Understand category trends to invest in the right genres\n",
    "📦 Optimize inventory to reduce idle stock and ensure popular titles are always available\n",
    "📆 Evaluate rental patterns over time to manage demand and promotions\n",
    "🛠️ Simplify reporting using advanced SQL for faster decision-making"
   ]
  },
  {
   "cell_type": "markdown",
   "id": "6f2888c1",
   "metadata": {},
   "source": [
    "The Sakila database is a well-known sample database provided by MySQL that mimics a DVD rental business. It's rich with relational data and is a great playground for practicing real-world SQL analytics like:\n",
    "\n",
    "> Business revenue tracking\n",
    "> Customer segmentation\n",
    "> Film popularity\n",
    "> Staff performance\n",
    "> Inventory & rentals analysis\n",
    "\n",
    "This project helps understand how data analysis supports business decisions.\n",
    "\n",
    "🛠️ Tools & Technologies Used:\n",
    "> MySQL (Sakila Database) – for all data operations\n",
    "> VS Code + Jupyter Notebook – for interactive development\n",
    "> Python (Pandas, SQLAlchemy, MySQL Connector) – to execute queries and display results\n",
    "> Git & GitHub – for version control and project sharing"
   ]
  },
  {
   "cell_type": "markdown",
   "id": "920944f4",
   "metadata": {},
   "source": [
    "🧠 SQL Concepts & Functions Used:\n",
    "\n",
    "> JOINS – for combining related data (e.g., rentals + payments)\n",
    "> GROUP BY & ORDER BY – for aggregation and sorting\n",
    "> CTEs (WITH) – for cleaner reusable queries\n",
    "> Window Functions (RANK, ROW_NUMBER) – for advanced ranking logic\n",
    "> CASE WHEN – for conditional logic\n",
    "> DATE_FORMAT, MONTH, YEAR, NOW() – for date manipulation\n",
    "> LIMIT, HAVING, DISTINCT, COUNT, SUM, AVG – for summarization"
   ]
  },
  {
   "cell_type": "markdown",
   "id": "8f14a8ff",
   "metadata": {},
   "source": []
  }
 ],
 "metadata": {
  "language_info": {
   "name": "python"
  }
 },
 "nbformat": 4,
 "nbformat_minor": 5
}
